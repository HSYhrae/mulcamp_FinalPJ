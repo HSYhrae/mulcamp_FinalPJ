{
  "nbformat": 4,
  "nbformat_minor": 0,
  "metadata": {
    "colab": {
      "provenance": [],
      "toc_visible": true,
      "authorship_tag": "ABX9TyMcOIjWVszPi0yCnMxTMeNw",
      "include_colab_link": true
    },
    "kernelspec": {
      "name": "python3",
      "display_name": "Python 3"
    },
    "language_info": {
      "name": "python"
    }
  },
  "cells": [
    {
      "cell_type": "markdown",
      "metadata": {
        "id": "view-in-github",
        "colab_type": "text"
      },
      "source": [
        "<a href=\"https://colab.research.google.com/github/HSYhrae/mulcamp_FinalPJ/blob/main/final_pj_ML(Churn).ipynb\" target=\"_parent\"><img src=\"https://colab.research.google.com/assets/colab-badge.svg\" alt=\"Open In Colab\"/></a>"
      ]
    },
    {
      "cell_type": "markdown",
      "source": [
        "### 구글 드라이브 연동"
      ],
      "metadata": {
        "id": "h4PnNxdDBoQL"
      }
    },
    {
      "cell_type": "code",
      "execution_count": 1,
      "metadata": {
        "colab": {
          "base_uri": "https://localhost:8080/"
        },
        "id": "OC7jiLrpBWkC",
        "outputId": "7a5d78d2-ce2c-4375-f28a-8ce01c4f4c32"
      },
      "outputs": [
        {
          "output_type": "stream",
          "name": "stdout",
          "text": [
            "Mounted at /content/drive\n"
          ]
        }
      ],
      "source": [
        "from google.colab import drive\n",
        "drive.mount('/content/drive')"
      ]
    },
    {
      "cell_type": "markdown",
      "source": [
        "### 데이터 및 라이브러리 불러오기"
      ],
      "metadata": {
        "id": "sqpQOzLJBviO"
      }
    },
    {
      "cell_type": "code",
      "source": [
        "import pandas as pd\n",
        "import numpy as np\n",
        "import seaborn as sns\n",
        "import matplotlib.pyplot as plt\n",
        "df = pd.read_excel('/content/drive/MyDrive/Mulcamp_final/data/Telco_customer_churn(preprocessed).xlsx')\n",
        "df.head()"
      ],
      "metadata": {
        "colab": {
          "base_uri": "https://localhost:8080/",
          "height": 273
        },
        "id": "UCkjqEE4Bnw-",
        "outputId": "ed012bdd-75f5-4748-99e8-36e403bf3522"
      },
      "execution_count": 47,
      "outputs": [
        {
          "output_type": "execute_result",
          "data": {
            "text/plain": [
              "   gender  SeniorCitizen  Dependents  tenure  PhoneService  MultipleLines  \\\n",
              "0       1              0           0       2             1              0   \n",
              "1       0              0           0       2             1              0   \n",
              "2       0              0           0       8             1              1   \n",
              "3       0              0           0      28             1              1   \n",
              "4       1              0           0      49             1              1   \n",
              "\n",
              "   InternetService  OnlineSecurity  OnlineBackup  DeviceProtection  ...  \\\n",
              "0                1               1             1                 0  ...   \n",
              "1                1               0             0                 0  ...   \n",
              "2                1               0             0                 1  ...   \n",
              "3                1               0             0                 1  ...   \n",
              "4                1               0             1                 1  ...   \n",
              "\n",
              "   Offer_Offer B  Offer_Offer C  Offer_Offer D  Offer_Offer E  \\\n",
              "0              0              0              0              0   \n",
              "1              0              0              0              0   \n",
              "2              0              0              0              0   \n",
              "3              0              1              0              0   \n",
              "4              0              0              0              0   \n",
              "\n",
              "   ChurnCategory_0  ChurnCategory_Attitude  ChurnCategory_Competitor  \\\n",
              "0                0                       0                         1   \n",
              "1                0                       0                         0   \n",
              "2                0                       0                         0   \n",
              "3                0                       0                         0   \n",
              "4                0                       0                         1   \n",
              "\n",
              "   ChurnCategory_Dissatisfaction  ChurnCategory_Other  ChurnCategory_Price  \n",
              "0                              0                    0                    0  \n",
              "1                              0                    1                    0  \n",
              "2                              0                    1                    0  \n",
              "3                              0                    1                    0  \n",
              "4                              0                    0                    0  \n",
              "\n",
              "[5 rows x 55 columns]"
            ],
            "text/html": [
              "\n",
              "  <div id=\"df-27b9ada0-031c-4e62-b66d-ee671dfb72b3\" class=\"colab-df-container\">\n",
              "    <div>\n",
              "<style scoped>\n",
              "    .dataframe tbody tr th:only-of-type {\n",
              "        vertical-align: middle;\n",
              "    }\n",
              "\n",
              "    .dataframe tbody tr th {\n",
              "        vertical-align: top;\n",
              "    }\n",
              "\n",
              "    .dataframe thead th {\n",
              "        text-align: right;\n",
              "    }\n",
              "</style>\n",
              "<table border=\"1\" class=\"dataframe\">\n",
              "  <thead>\n",
              "    <tr style=\"text-align: right;\">\n",
              "      <th></th>\n",
              "      <th>gender</th>\n",
              "      <th>SeniorCitizen</th>\n",
              "      <th>Dependents</th>\n",
              "      <th>tenure</th>\n",
              "      <th>PhoneService</th>\n",
              "      <th>MultipleLines</th>\n",
              "      <th>InternetService</th>\n",
              "      <th>OnlineSecurity</th>\n",
              "      <th>OnlineBackup</th>\n",
              "      <th>DeviceProtection</th>\n",
              "      <th>...</th>\n",
              "      <th>Offer_Offer B</th>\n",
              "      <th>Offer_Offer C</th>\n",
              "      <th>Offer_Offer D</th>\n",
              "      <th>Offer_Offer E</th>\n",
              "      <th>ChurnCategory_0</th>\n",
              "      <th>ChurnCategory_Attitude</th>\n",
              "      <th>ChurnCategory_Competitor</th>\n",
              "      <th>ChurnCategory_Dissatisfaction</th>\n",
              "      <th>ChurnCategory_Other</th>\n",
              "      <th>ChurnCategory_Price</th>\n",
              "    </tr>\n",
              "  </thead>\n",
              "  <tbody>\n",
              "    <tr>\n",
              "      <th>0</th>\n",
              "      <td>1</td>\n",
              "      <td>0</td>\n",
              "      <td>0</td>\n",
              "      <td>2</td>\n",
              "      <td>1</td>\n",
              "      <td>0</td>\n",
              "      <td>1</td>\n",
              "      <td>1</td>\n",
              "      <td>1</td>\n",
              "      <td>0</td>\n",
              "      <td>...</td>\n",
              "      <td>0</td>\n",
              "      <td>0</td>\n",
              "      <td>0</td>\n",
              "      <td>0</td>\n",
              "      <td>0</td>\n",
              "      <td>0</td>\n",
              "      <td>1</td>\n",
              "      <td>0</td>\n",
              "      <td>0</td>\n",
              "      <td>0</td>\n",
              "    </tr>\n",
              "    <tr>\n",
              "      <th>1</th>\n",
              "      <td>0</td>\n",
              "      <td>0</td>\n",
              "      <td>0</td>\n",
              "      <td>2</td>\n",
              "      <td>1</td>\n",
              "      <td>0</td>\n",
              "      <td>1</td>\n",
              "      <td>0</td>\n",
              "      <td>0</td>\n",
              "      <td>0</td>\n",
              "      <td>...</td>\n",
              "      <td>0</td>\n",
              "      <td>0</td>\n",
              "      <td>0</td>\n",
              "      <td>0</td>\n",
              "      <td>0</td>\n",
              "      <td>0</td>\n",
              "      <td>0</td>\n",
              "      <td>0</td>\n",
              "      <td>1</td>\n",
              "      <td>0</td>\n",
              "    </tr>\n",
              "    <tr>\n",
              "      <th>2</th>\n",
              "      <td>0</td>\n",
              "      <td>0</td>\n",
              "      <td>0</td>\n",
              "      <td>8</td>\n",
              "      <td>1</td>\n",
              "      <td>1</td>\n",
              "      <td>1</td>\n",
              "      <td>0</td>\n",
              "      <td>0</td>\n",
              "      <td>1</td>\n",
              "      <td>...</td>\n",
              "      <td>0</td>\n",
              "      <td>0</td>\n",
              "      <td>0</td>\n",
              "      <td>0</td>\n",
              "      <td>0</td>\n",
              "      <td>0</td>\n",
              "      <td>0</td>\n",
              "      <td>0</td>\n",
              "      <td>1</td>\n",
              "      <td>0</td>\n",
              "    </tr>\n",
              "    <tr>\n",
              "      <th>3</th>\n",
              "      <td>0</td>\n",
              "      <td>0</td>\n",
              "      <td>0</td>\n",
              "      <td>28</td>\n",
              "      <td>1</td>\n",
              "      <td>1</td>\n",
              "      <td>1</td>\n",
              "      <td>0</td>\n",
              "      <td>0</td>\n",
              "      <td>1</td>\n",
              "      <td>...</td>\n",
              "      <td>0</td>\n",
              "      <td>1</td>\n",
              "      <td>0</td>\n",
              "      <td>0</td>\n",
              "      <td>0</td>\n",
              "      <td>0</td>\n",
              "      <td>0</td>\n",
              "      <td>0</td>\n",
              "      <td>1</td>\n",
              "      <td>0</td>\n",
              "    </tr>\n",
              "    <tr>\n",
              "      <th>4</th>\n",
              "      <td>1</td>\n",
              "      <td>0</td>\n",
              "      <td>0</td>\n",
              "      <td>49</td>\n",
              "      <td>1</td>\n",
              "      <td>1</td>\n",
              "      <td>1</td>\n",
              "      <td>0</td>\n",
              "      <td>1</td>\n",
              "      <td>1</td>\n",
              "      <td>...</td>\n",
              "      <td>0</td>\n",
              "      <td>0</td>\n",
              "      <td>0</td>\n",
              "      <td>0</td>\n",
              "      <td>0</td>\n",
              "      <td>0</td>\n",
              "      <td>1</td>\n",
              "      <td>0</td>\n",
              "      <td>0</td>\n",
              "      <td>0</td>\n",
              "    </tr>\n",
              "  </tbody>\n",
              "</table>\n",
              "<p>5 rows × 55 columns</p>\n",
              "</div>\n",
              "    <div class=\"colab-df-buttons\">\n",
              "\n",
              "  <div class=\"colab-df-container\">\n",
              "    <button class=\"colab-df-convert\" onclick=\"convertToInteractive('df-27b9ada0-031c-4e62-b66d-ee671dfb72b3')\"\n",
              "            title=\"Convert this dataframe to an interactive table.\"\n",
              "            style=\"display:none;\">\n",
              "\n",
              "  <svg xmlns=\"http://www.w3.org/2000/svg\" height=\"24px\" viewBox=\"0 -960 960 960\">\n",
              "    <path d=\"M120-120v-720h720v720H120Zm60-500h600v-160H180v160Zm220 220h160v-160H400v160Zm0 220h160v-160H400v160ZM180-400h160v-160H180v160Zm440 0h160v-160H620v160ZM180-180h160v-160H180v160Zm440 0h160v-160H620v160Z\"/>\n",
              "  </svg>\n",
              "    </button>\n",
              "\n",
              "  <style>\n",
              "    .colab-df-container {\n",
              "      display:flex;\n",
              "      gap: 12px;\n",
              "    }\n",
              "\n",
              "    .colab-df-convert {\n",
              "      background-color: #E8F0FE;\n",
              "      border: none;\n",
              "      border-radius: 50%;\n",
              "      cursor: pointer;\n",
              "      display: none;\n",
              "      fill: #1967D2;\n",
              "      height: 32px;\n",
              "      padding: 0 0 0 0;\n",
              "      width: 32px;\n",
              "    }\n",
              "\n",
              "    .colab-df-convert:hover {\n",
              "      background-color: #E2EBFA;\n",
              "      box-shadow: 0px 1px 2px rgba(60, 64, 67, 0.3), 0px 1px 3px 1px rgba(60, 64, 67, 0.15);\n",
              "      fill: #174EA6;\n",
              "    }\n",
              "\n",
              "    .colab-df-buttons div {\n",
              "      margin-bottom: 4px;\n",
              "    }\n",
              "\n",
              "    [theme=dark] .colab-df-convert {\n",
              "      background-color: #3B4455;\n",
              "      fill: #D2E3FC;\n",
              "    }\n",
              "\n",
              "    [theme=dark] .colab-df-convert:hover {\n",
              "      background-color: #434B5C;\n",
              "      box-shadow: 0px 1px 3px 1px rgba(0, 0, 0, 0.15);\n",
              "      filter: drop-shadow(0px 1px 2px rgba(0, 0, 0, 0.3));\n",
              "      fill: #FFFFFF;\n",
              "    }\n",
              "  </style>\n",
              "\n",
              "    <script>\n",
              "      const buttonEl =\n",
              "        document.querySelector('#df-27b9ada0-031c-4e62-b66d-ee671dfb72b3 button.colab-df-convert');\n",
              "      buttonEl.style.display =\n",
              "        google.colab.kernel.accessAllowed ? 'block' : 'none';\n",
              "\n",
              "      async function convertToInteractive(key) {\n",
              "        const element = document.querySelector('#df-27b9ada0-031c-4e62-b66d-ee671dfb72b3');\n",
              "        const dataTable =\n",
              "          await google.colab.kernel.invokeFunction('convertToInteractive',\n",
              "                                                    [key], {});\n",
              "        if (!dataTable) return;\n",
              "\n",
              "        const docLinkHtml = 'Like what you see? Visit the ' +\n",
              "          '<a target=\"_blank\" href=https://colab.research.google.com/notebooks/data_table.ipynb>data table notebook</a>'\n",
              "          + ' to learn more about interactive tables.';\n",
              "        element.innerHTML = '';\n",
              "        dataTable['output_type'] = 'display_data';\n",
              "        await google.colab.output.renderOutput(dataTable, element);\n",
              "        const docLink = document.createElement('div');\n",
              "        docLink.innerHTML = docLinkHtml;\n",
              "        element.appendChild(docLink);\n",
              "      }\n",
              "    </script>\n",
              "  </div>\n",
              "\n",
              "\n",
              "<div id=\"df-0b9efc79-f695-4e81-8ddd-baaee0bddc6e\">\n",
              "  <button class=\"colab-df-quickchart\" onclick=\"quickchart('df-0b9efc79-f695-4e81-8ddd-baaee0bddc6e')\"\n",
              "            title=\"Suggest charts.\"\n",
              "            style=\"display:none;\">\n",
              "\n",
              "<svg xmlns=\"http://www.w3.org/2000/svg\" height=\"24px\"viewBox=\"0 0 24 24\"\n",
              "     width=\"24px\">\n",
              "    <g>\n",
              "        <path d=\"M19 3H5c-1.1 0-2 .9-2 2v14c0 1.1.9 2 2 2h14c1.1 0 2-.9 2-2V5c0-1.1-.9-2-2-2zM9 17H7v-7h2v7zm4 0h-2V7h2v10zm4 0h-2v-4h2v4z\"/>\n",
              "    </g>\n",
              "</svg>\n",
              "  </button>\n",
              "\n",
              "<style>\n",
              "  .colab-df-quickchart {\n",
              "      --bg-color: #E8F0FE;\n",
              "      --fill-color: #1967D2;\n",
              "      --hover-bg-color: #E2EBFA;\n",
              "      --hover-fill-color: #174EA6;\n",
              "      --disabled-fill-color: #AAA;\n",
              "      --disabled-bg-color: #DDD;\n",
              "  }\n",
              "\n",
              "  [theme=dark] .colab-df-quickchart {\n",
              "      --bg-color: #3B4455;\n",
              "      --fill-color: #D2E3FC;\n",
              "      --hover-bg-color: #434B5C;\n",
              "      --hover-fill-color: #FFFFFF;\n",
              "      --disabled-bg-color: #3B4455;\n",
              "      --disabled-fill-color: #666;\n",
              "  }\n",
              "\n",
              "  .colab-df-quickchart {\n",
              "    background-color: var(--bg-color);\n",
              "    border: none;\n",
              "    border-radius: 50%;\n",
              "    cursor: pointer;\n",
              "    display: none;\n",
              "    fill: var(--fill-color);\n",
              "    height: 32px;\n",
              "    padding: 0;\n",
              "    width: 32px;\n",
              "  }\n",
              "\n",
              "  .colab-df-quickchart:hover {\n",
              "    background-color: var(--hover-bg-color);\n",
              "    box-shadow: 0 1px 2px rgba(60, 64, 67, 0.3), 0 1px 3px 1px rgba(60, 64, 67, 0.15);\n",
              "    fill: var(--button-hover-fill-color);\n",
              "  }\n",
              "\n",
              "  .colab-df-quickchart-complete:disabled,\n",
              "  .colab-df-quickchart-complete:disabled:hover {\n",
              "    background-color: var(--disabled-bg-color);\n",
              "    fill: var(--disabled-fill-color);\n",
              "    box-shadow: none;\n",
              "  }\n",
              "\n",
              "  .colab-df-spinner {\n",
              "    border: 2px solid var(--fill-color);\n",
              "    border-color: transparent;\n",
              "    border-bottom-color: var(--fill-color);\n",
              "    animation:\n",
              "      spin 1s steps(1) infinite;\n",
              "  }\n",
              "\n",
              "  @keyframes spin {\n",
              "    0% {\n",
              "      border-color: transparent;\n",
              "      border-bottom-color: var(--fill-color);\n",
              "      border-left-color: var(--fill-color);\n",
              "    }\n",
              "    20% {\n",
              "      border-color: transparent;\n",
              "      border-left-color: var(--fill-color);\n",
              "      border-top-color: var(--fill-color);\n",
              "    }\n",
              "    30% {\n",
              "      border-color: transparent;\n",
              "      border-left-color: var(--fill-color);\n",
              "      border-top-color: var(--fill-color);\n",
              "      border-right-color: var(--fill-color);\n",
              "    }\n",
              "    40% {\n",
              "      border-color: transparent;\n",
              "      border-right-color: var(--fill-color);\n",
              "      border-top-color: var(--fill-color);\n",
              "    }\n",
              "    60% {\n",
              "      border-color: transparent;\n",
              "      border-right-color: var(--fill-color);\n",
              "    }\n",
              "    80% {\n",
              "      border-color: transparent;\n",
              "      border-right-color: var(--fill-color);\n",
              "      border-bottom-color: var(--fill-color);\n",
              "    }\n",
              "    90% {\n",
              "      border-color: transparent;\n",
              "      border-bottom-color: var(--fill-color);\n",
              "    }\n",
              "  }\n",
              "</style>\n",
              "\n",
              "  <script>\n",
              "    async function quickchart(key) {\n",
              "      const quickchartButtonEl =\n",
              "        document.querySelector('#' + key + ' button');\n",
              "      quickchartButtonEl.disabled = true;  // To prevent multiple clicks.\n",
              "      quickchartButtonEl.classList.add('colab-df-spinner');\n",
              "      try {\n",
              "        const charts = await google.colab.kernel.invokeFunction(\n",
              "            'suggestCharts', [key], {});\n",
              "      } catch (error) {\n",
              "        console.error('Error during call to suggestCharts:', error);\n",
              "      }\n",
              "      quickchartButtonEl.classList.remove('colab-df-spinner');\n",
              "      quickchartButtonEl.classList.add('colab-df-quickchart-complete');\n",
              "    }\n",
              "    (() => {\n",
              "      let quickchartButtonEl =\n",
              "        document.querySelector('#df-0b9efc79-f695-4e81-8ddd-baaee0bddc6e button');\n",
              "      quickchartButtonEl.style.display =\n",
              "        google.colab.kernel.accessAllowed ? 'block' : 'none';\n",
              "    })();\n",
              "  </script>\n",
              "</div>\n",
              "    </div>\n",
              "  </div>\n"
            ]
          },
          "metadata": {},
          "execution_count": 47
        }
      ]
    },
    {
      "cell_type": "markdown",
      "source": [
        "- 데이터 확인"
      ],
      "metadata": {
        "id": "wEnoqs8iJxys"
      }
    },
    {
      "cell_type": "code",
      "source": [
        "df.info()"
      ],
      "metadata": {
        "colab": {
          "base_uri": "https://localhost:8080/"
        },
        "id": "S4o_q71vCD95",
        "outputId": "2bce7135-007a-4658-d9c4-7bcfff53d20f"
      },
      "execution_count": 3,
      "outputs": [
        {
          "output_type": "stream",
          "name": "stdout",
          "text": [
            "<class 'pandas.core.frame.DataFrame'>\n",
            "RangeIndex: 7032 entries, 0 to 7031\n",
            "Data columns (total 55 columns):\n",
            " #   Column                                   Non-Null Count  Dtype  \n",
            "---  ------                                   --------------  -----  \n",
            " 0   gender                                   7032 non-null   int64  \n",
            " 1   SeniorCitizen                            7032 non-null   int64  \n",
            " 2   Dependents                               7032 non-null   int64  \n",
            " 3   tenure                                   7032 non-null   int64  \n",
            " 4   PhoneService                             7032 non-null   int64  \n",
            " 5   MultipleLines                            7032 non-null   int64  \n",
            " 6   InternetService                          7032 non-null   int64  \n",
            " 7   OnlineSecurity                           7032 non-null   int64  \n",
            " 8   OnlineBackup                             7032 non-null   int64  \n",
            " 9   DeviceProtection                         7032 non-null   int64  \n",
            " 10  TechSupport                              7032 non-null   int64  \n",
            " 11  StreamingTV                              7032 non-null   int64  \n",
            " 12  StreamingMovies                          7032 non-null   int64  \n",
            " 13  PaperlessBilling                         7032 non-null   int64  \n",
            " 14  MonthlyCharges                           7032 non-null   float64\n",
            " 15  TotalCharges                             7032 non-null   float64\n",
            " 16  Churn                                    7032 non-null   int64  \n",
            " 17  CLTV                                     7032 non-null   int64  \n",
            " 18  Count                                    7032 non-null   int64  \n",
            " 19  ZipCode                                  7032 non-null   int64  \n",
            " 20  Latitude                                 7032 non-null   float64\n",
            " 21  Longitude                                7032 non-null   float64\n",
            " 22  Age                                      7032 non-null   int64  \n",
            " 23  Under30                                  7032 non-null   int64  \n",
            " 24  Married                                  7032 non-null   int64  \n",
            " 25  ReferredAFriend                          7032 non-null   int64  \n",
            " 26  NumberOfReferrals                        7032 non-null   int64  \n",
            " 27  AvgMonthlyLongDistanceCharges            7032 non-null   float64\n",
            " 28  AvgMonthlyGBDownload                     7032 non-null   int64  \n",
            " 29  StreamingMusic                           7032 non-null   int64  \n",
            " 30  PremiumTechSupport                       7032 non-null   int64  \n",
            " 31  UnlimitedData                            7032 non-null   int64  \n",
            " 32  TotalRefunds                             7032 non-null   float64\n",
            " 33  TotalExtraDataCharges                    7032 non-null   int64  \n",
            " 34  TotalLongDistanceCharges                 7032 non-null   float64\n",
            " 35  SatisfactionScore                        7032 non-null   int64  \n",
            " 36  Contract_1                               7032 non-null   int64  \n",
            " 37  Contract_12                              7032 non-null   int64  \n",
            " 38  Contract_24                              7032 non-null   int64  \n",
            " 39  PaymentMethod_Bank transfer (automatic)  7032 non-null   int64  \n",
            " 40  PaymentMethod_Credit card (automatic)    7032 non-null   int64  \n",
            " 41  PaymentMethod_Electronic check           7032 non-null   int64  \n",
            " 42  PaymentMethod_Mailed check               7032 non-null   int64  \n",
            " 43  Offer_None                               7032 non-null   int64  \n",
            " 44  Offer_Offer A                            7032 non-null   int64  \n",
            " 45  Offer_Offer B                            7032 non-null   int64  \n",
            " 46  Offer_Offer C                            7032 non-null   int64  \n",
            " 47  Offer_Offer D                            7032 non-null   int64  \n",
            " 48  Offer_Offer E                            7032 non-null   int64  \n",
            " 49  ChurnCategory_0                          7032 non-null   int64  \n",
            " 50  ChurnCategory_Attitude                   7032 non-null   int64  \n",
            " 51  ChurnCategory_Competitor                 7032 non-null   int64  \n",
            " 52  ChurnCategory_Dissatisfaction            7032 non-null   int64  \n",
            " 53  ChurnCategory_Other                      7032 non-null   int64  \n",
            " 54  ChurnCategory_Price                      7032 non-null   int64  \n",
            "dtypes: float64(7), int64(48)\n",
            "memory usage: 3.0 MB\n"
          ]
        }
      ]
    },
    {
      "cell_type": "markdown",
      "source": [
        "### 머신러닝 준비"
      ],
      "metadata": {
        "id": "X3_-yWmVAZ5g"
      }
    },
    {
      "cell_type": "code",
      "source": [
        "X = df.drop('Churn', axis = 1)\n",
        "y = df['Churn']"
      ],
      "metadata": {
        "id": "pdMVI0ItTKnr"
      },
      "execution_count": 48,
      "outputs": []
    },
    {
      "cell_type": "code",
      "source": [
        "# 수치형 변수\n",
        "numeric_features = X[['tenure', 'Age', 'NumberOfReferrals', 'MonthlyCharges', 'TotalCharges', 'AvgMonthlyLongDistanceCharges', 'AvgMonthlyGBDownload', 'TotalRefunds', 'TotalExtraDataCharges', 'TotalLongDistanceCharges', 'CLTV', 'SatisfactionScore']]"
      ],
      "metadata": {
        "id": "YMn0nSghAFeg"
      },
      "execution_count": 52,
      "outputs": []
    },
    {
      "cell_type": "code",
      "source": [
        "from sklearn.model_selection import train_test_split\n",
        "X_train, X_test, y_train, y_test = train_test_split(X, y, test_size = 0.2, random_state = 100)"
      ],
      "metadata": {
        "id": "K30j8XMoSlPc"
      },
      "execution_count": 53,
      "outputs": []
    },
    {
      "cell_type": "code",
      "source": [
        "from sklearn.preprocessing import StandardScaler\n",
        "# 수치형 변수 표준화, dataframe 생성\n",
        "scaler = StandardScaler()\n",
        "numeric_scaled = scaler.fit_transform(numeric_features)"
      ],
      "metadata": {
        "id": "Q_a-zn1ASXRT"
      },
      "execution_count": 54,
      "outputs": []
    },
    {
      "cell_type": "code",
      "source": [
        "# 데이터 불균형으로 oversampling\n",
        "from imblearn.over_sampling import SMOTE\n",
        "smote = SMOTE(random_state=0)\n",
        "X_train_over, y_train_over = smote.fit_resample(X_train, y_train)\n",
        "\n",
        "X_train_over.shape, y_train_over.shape"
      ],
      "metadata": {
        "id": "fF67hfP_5cxp",
        "colab": {
          "base_uri": "https://localhost:8080/"
        },
        "outputId": "7fa917a1-e0f6-48aa-8b3f-baafed788f1a"
      },
      "execution_count": 55,
      "outputs": [
        {
          "output_type": "execute_result",
          "data": {
            "text/plain": [
              "((8254, 54), (8254,))"
            ]
          },
          "metadata": {},
          "execution_count": 55
        }
      ]
    },
    {
      "cell_type": "code",
      "source": [
        "tmp = np.unique(y_train, return_counts=True)[1]\n",
        "tmp[1]/len(y_train)*100"
      ],
      "metadata": {
        "colab": {
          "base_uri": "https://localhost:8080/"
        },
        "id": "DWdSqZp1eQKy",
        "outputId": "c60b2dbe-dba3-4bda-828c-b7d4fc5e9677"
      },
      "execution_count": 56,
      "outputs": [
        {
          "output_type": "execute_result",
          "data": {
            "text/plain": [
              "26.63111111111111"
            ]
          },
          "metadata": {},
          "execution_count": 56
        }
      ]
    },
    {
      "cell_type": "code",
      "source": [
        "y_train"
      ],
      "metadata": {
        "id": "Zfl4MU7f5zyl",
        "colab": {
          "base_uri": "https://localhost:8080/"
        },
        "outputId": "d38b6ed9-e577-4621-89c6-c8cb25b5d223"
      },
      "execution_count": 57,
      "outputs": [
        {
          "output_type": "execute_result",
          "data": {
            "text/plain": [
              "1007    1\n",
              "2727    0\n",
              "2935    0\n",
              "857     1\n",
              "2890    0\n",
              "       ..\n",
              "79      1\n",
              "3927    0\n",
              "5955    0\n",
              "6936    0\n",
              "5640    0\n",
              "Name: Churn, Length: 5625, dtype: int64"
            ]
          },
          "metadata": {},
          "execution_count": 57
        }
      ]
    },
    {
      "cell_type": "markdown",
      "source": [
        "#### 로지스틱 회귀분석"
      ],
      "metadata": {
        "id": "hw_aQSCDm289"
      }
    },
    {
      "cell_type": "code",
      "source": [
        "from sklearn.linear_model import LogisticRegression\n",
        "from sklearn.model_selection import GridSearchCV\n",
        "lr_clf = LogisticRegression(random_state=0, max_iter=1000)\n",
        "params = {\"C\" : [0.01, 0.1, 1, 5, 10]}\n",
        "\n",
        "# grid_cv = GridSearchCV(lr_clf, param_grid=params, cv=5, n_jobs=-1)\n",
        "lr_clf.fit(X_train_over, y_train_over)\n",
        "\n",
        "# print(grid_cv.best_params_)\n",
        "\n",
        "train_pred = lr_clf.predict(X_train_over)\n",
        "pred = lr_clf.predict(X_test)\n",
        "\n",
        "from sklearn.metrics import accuracy_score  # 정확도 라이브러리 호출\n",
        "print(accuracy_score(y_train_over, train_pred))\n",
        "print(accuracy_score(y_test, pred))"
      ],
      "metadata": {
        "id": "-dnbrqULUEPc",
        "colab": {
          "base_uri": "https://localhost:8080/"
        },
        "outputId": "19bf45e9-60bd-4c61-f3f4-2e95e8be533d"
      },
      "execution_count": 71,
      "outputs": [
        {
          "output_type": "stream",
          "name": "stdout",
          "text": [
            "0.9093772716258783\n",
            "0.8777540867093105\n"
          ]
        },
        {
          "output_type": "stream",
          "name": "stderr",
          "text": [
            "/usr/local/lib/python3.10/dist-packages/sklearn/linear_model/_logistic.py:458: ConvergenceWarning: lbfgs failed to converge (status=1):\n",
            "STOP: TOTAL NO. of ITERATIONS REACHED LIMIT.\n",
            "\n",
            "Increase the number of iterations (max_iter) or scale the data as shown in:\n",
            "    https://scikit-learn.org/stable/modules/preprocessing.html\n",
            "Please also refer to the documentation for alternative solver options:\n",
            "    https://scikit-learn.org/stable/modules/linear_model.html#logistic-regression\n",
            "  n_iter_i = _check_optimize_result(\n"
          ]
        }
      ]
    },
    {
      "cell_type": "code",
      "source": [
        "print(X_train.shape, X_test.shape, y_train.shape, y_test.shape, pred.shape)"
      ],
      "metadata": {
        "id": "R1sRG41DWXEL",
        "colab": {
          "base_uri": "https://localhost:8080/"
        },
        "outputId": "bba2ea09-ade6-46bf-ccc4-687435df2a4a"
      },
      "execution_count": 41,
      "outputs": [
        {
          "output_type": "stream",
          "name": "stdout",
          "text": [
            "(5782, 54) (2066, 54) (5782,) (2066,) (2066,)\n"
          ]
        }
      ]
    },
    {
      "cell_type": "code",
      "source": [
        "import numpy as np\n",
        "import pandas as pd\n",
        "import matplotlib.pyplot as plt\n",
        "from sklearn.linear_model import LogisticRegression\n",
        "\n",
        "# Fit your logistic regression model (lr) first.\n",
        "\n",
        "# Get the coefficients and feature names\n",
        "coef = lr_clf.coef_[0]\n",
        "feature_names = X.columns\n",
        "\n",
        "# Calculate feature importances (absolute values of coefficients)\n",
        "importances = np.abs(coef)\n",
        "\n",
        "# Create a DataFrame to store the feature names and importances\n",
        "feature_importance_df = pd.DataFrame({\n",
        "    'Feature': feature_names,\n",
        "    'Importance': importances\n",
        "})\n",
        "\n",
        "# Sort the features by importance in descending order\n",
        "feature_importance_df = feature_importance_df.sort_values(by='Importance', ascending=False)\n",
        "\n",
        "# Plot the top N important features\n",
        "N = 10  # You can change N to the number of top features you want to plot\n",
        "top_N_features = feature_importance_df.head(N)\n",
        "\n",
        "plt.figure(figsize=(10, 6))\n",
        "plt.barh(top_N_features['Feature'], top_N_features['Importance'], color='skyblue')\n",
        "plt.xlabel('Importance')\n",
        "plt.title(f'Top {N} Feature Importances')\n",
        "plt.gca().invert_yaxis()  # Invert the y-axis for better visualization\n",
        "plt.show()\n"
      ],
      "metadata": {
        "colab": {
          "base_uri": "https://localhost:8080/",
          "height": 564
        },
        "id": "bHbi-1Iwf8GW",
        "outputId": "1e167ce3-0cd2-4716-d9d4-bc43c8871007"
      },
      "execution_count": 72,
      "outputs": [
        {
          "output_type": "display_data",
          "data": {
            "text/plain": [
              "<Figure size 1000x600 with 1 Axes>"
            ],
            "image/png": "[encoded data removed]"
          },
          "metadata": {}
        }
      ]
    },
    {
      "cell_type": "markdown",
      "source": [
        "#### 랜덤포레스트"
      ],
      "metadata": {
        "id": "GuiB4EMbjKch"
      }
    },
    {
      "cell_type": "code",
      "source": [
        "from sklearn.ensemble import RandomForestClassifier\n",
        "params = {\n",
        "    'max_depth':[6, 8, 10],\n",
        "    'n_estimators':[50, 100, 200],\n",
        "    'min_samples_leaf':[8, 12, 18], # 최소한의 샘플 데이터 수\n",
        "    'min_samples_split':[8, 16, 20] # 노드를 분할하기 위한 최소한의 샘플 데이터 수\n",
        "}\n",
        "\n",
        "rf_clf = RandomForestClassifier(random_state=0, n_jobs=-1)\n",
        "# grid_cv = GridSearchCV(rf_clf, param_grid=params, cv=5, n_jobs=-1)\n",
        "rf_clf.fit(X_train_over, y_train_over)\n",
        "\n",
        "rf_pred_tr = lr_clf.predict(X_train_over)\n",
        "rf_pred_test = lr_clf.predict(X_test)\n",
        "\n",
        "print('Train ACC : ', accuracy_score(y_train_over, rf_pred_tr))\n",
        "print('Test ACC : ', accuracy_score(y_test, rf_pred_test))"
      ],
      "metadata": {
        "colab": {
          "base_uri": "https://localhost:8080/"
        },
        "id": "IEKNBYShjJ_P",
        "outputId": "7231e1df-c2b9-42c9-9ab0-ff2a1e82280b"
      },
      "execution_count": 74,
      "outputs": [
        {
          "output_type": "stream",
          "name": "stdout",
          "text": [
            "Train ACC :  0.9093772716258783\n",
            "Test ACC :  0.8777540867093105\n"
          ]
        }
      ]
    },
    {
      "cell_type": "code",
      "source": [
        "importances = rf_clf.feature_importances_\n",
        "important_cols = pd.Series(importances, index=X.columns).sort_values(ascending=False)\n",
        "important_cols"
      ],
      "metadata": {
        "colab": {
          "base_uri": "https://localhost:8080/"
        },
        "id": "csrJkpNdjt6d",
        "outputId": "54193ac1-2e34-411e-996a-74d754dee32e"
      },
      "execution_count": 75,
      "outputs": [
        {
          "output_type": "execute_result",
          "data": {
            "text/plain": [
              "ChurnCategory_0                            0.380696\n",
              "SatisfactionScore                          0.311851\n",
              "ChurnCategory_Competitor                   0.046399\n",
              "Contract_24                                0.029389\n",
              "Contract_1                                 0.029069\n",
              "tenure                                     0.028049\n",
              "NumberOfReferrals                          0.018536\n",
              "TechSupport                                0.017593\n",
              "MonthlyCharges                             0.016522\n",
              "AvgMonthlyGBDownload                       0.014144\n",
              "OnlineSecurity                             0.010784\n",
              "Contract_12                                0.007657\n",
              "ChurnCategory_Attitude                     0.007338\n",
              "PremiumTechSupport                         0.007094\n",
              "Dependents                                 0.006851\n",
              "ChurnCategory_Dissatisfaction              0.006522\n",
              "Married                                    0.005791\n",
              "InternetService                            0.005079\n",
              "PaymentMethod_Mailed check                 0.004813\n",
              "TotalCharges                               0.004201\n",
              "PaymentMethod_Bank transfer (automatic)    0.004038\n",
              "ChurnCategory_Price                        0.003976\n",
              "ChurnCategory_Other                        0.003653\n",
              "ReferredAFriend                            0.003151\n",
              "TotalLongDistanceCharges                   0.003042\n",
              "OnlineBackup                               0.002463\n",
              "Under30                                    0.002098\n",
              "PaymentMethod_Credit card (automatic)      0.001966\n",
              "AvgMonthlyLongDistanceCharges              0.001839\n",
              "Latitude                                   0.001695\n",
              "CLTV                                       0.001643\n",
              "ZipCode                                    0.001590\n",
              "Age                                        0.001514\n",
              "Longitude                                  0.001462\n",
              "DeviceProtection                           0.000952\n",
              "Offer_Offer B                              0.000787\n",
              "PaymentMethod_Electronic check             0.000786\n",
              "gender                                     0.000720\n",
              "Offer_None                                 0.000626\n",
              "StreamingMovies                            0.000531\n",
              "TotalExtraDataCharges                      0.000514\n",
              "StreamingMusic                             0.000402\n",
              "TotalRefunds                               0.000320\n",
              "MultipleLines                              0.000283\n",
              "PaperlessBilling                           0.000243\n",
              "Offer_Offer E                              0.000222\n",
              "Offer_Offer A                              0.000207\n",
              "UnlimitedData                              0.000195\n",
              "Offer_Offer D                              0.000161\n",
              "SeniorCitizen                              0.000152\n",
              "StreamingTV                                0.000149\n",
              "PhoneService                               0.000142\n",
              "Offer_Offer C                              0.000098\n",
              "Count                                      0.000000\n",
              "dtype: float64"
            ]
          },
          "metadata": {},
          "execution_count": 75
        }
      ]
    },
    {
      "cell_type": "markdown",
      "source": [
        "#### 의사결정나무"
      ],
      "metadata": {
        "id": "PiH1hkZwjsYn"
      }
    },
    {
      "cell_type": "code",
      "source": [
        "from sklearn.tree import DecisionTreeClassifier\n",
        "dt = DecisionTreeClassifier(random_state=0, max_depth=4)\n",
        "\n",
        "dt.fit(X_train_over, y_train_over)\n",
        "\n",
        "dt_pred_tr = lr_clf.predict(X_train_over)\n",
        "dt_pred_test = lr_clf.predict(X_test)\n",
        "\n",
        "print('Train ACC : ', accuracy_score(y_train_over, dt_pred_tr))\n",
        "print('Test ACC : ', accuracy_score(y_test, dt_pred_test))"
      ],
      "metadata": {
        "colab": {
          "base_uri": "https://localhost:8080/"
        },
        "id": "FTmRSLWZj7qd",
        "outputId": "7f2d70ff-de90-4445-8366-5711fbef995f"
      },
      "execution_count": 77,
      "outputs": [
        {
          "output_type": "stream",
          "name": "stdout",
          "text": [
            "Train ACC :  0.9093772716258783\n",
            "Test ACC :  0.8777540867093105\n"
          ]
        }
      ]
    },
    {
      "cell_type": "code",
      "source": [
        "importances = dt.feature_importances_\n",
        "important_cols = pd.Series(importances, index=X.columns).sort_values(ascending=False)\n",
        "important_cols"
      ],
      "metadata": {
        "colab": {
          "base_uri": "https://localhost:8080/"
        },
        "id": "XXHTrK76kcSh",
        "outputId": "689ec7dc-714d-414e-ff7d-56f5079aab81"
      },
      "execution_count": 78,
      "outputs": [
        {
          "output_type": "execute_result",
          "data": {
            "text/plain": [
              "ChurnCategory_0                            1.0\n",
              "gender                                     0.0\n",
              "PaymentMethod_Electronic check             0.0\n",
              "PremiumTechSupport                         0.0\n",
              "UnlimitedData                              0.0\n",
              "TotalRefunds                               0.0\n",
              "TotalExtraDataCharges                      0.0\n",
              "TotalLongDistanceCharges                   0.0\n",
              "SatisfactionScore                          0.0\n",
              "Contract_1                                 0.0\n",
              "Contract_12                                0.0\n",
              "Contract_24                                0.0\n",
              "PaymentMethod_Bank transfer (automatic)    0.0\n",
              "PaymentMethod_Credit card (automatic)      0.0\n",
              "PaymentMethod_Mailed check                 0.0\n",
              "SeniorCitizen                              0.0\n",
              "Offer_None                                 0.0\n",
              "Offer_Offer A                              0.0\n",
              "Offer_Offer B                              0.0\n",
              "Offer_Offer C                              0.0\n",
              "Offer_Offer D                              0.0\n",
              "Offer_Offer E                              0.0\n",
              "ChurnCategory_Attitude                     0.0\n",
              "ChurnCategory_Competitor                   0.0\n",
              "ChurnCategory_Dissatisfaction              0.0\n",
              "ChurnCategory_Other                        0.0\n",
              "StreamingMusic                             0.0\n",
              "AvgMonthlyGBDownload                       0.0\n",
              "AvgMonthlyLongDistanceCharges              0.0\n",
              "NumberOfReferrals                          0.0\n",
              "Dependents                                 0.0\n",
              "tenure                                     0.0\n",
              "PhoneService                               0.0\n",
              "MultipleLines                              0.0\n",
              "InternetService                            0.0\n",
              "OnlineSecurity                             0.0\n",
              "OnlineBackup                               0.0\n",
              "DeviceProtection                           0.0\n",
              "TechSupport                                0.0\n",
              "StreamingTV                                0.0\n",
              "StreamingMovies                            0.0\n",
              "PaperlessBilling                           0.0\n",
              "MonthlyCharges                             0.0\n",
              "TotalCharges                               0.0\n",
              "CLTV                                       0.0\n",
              "Count                                      0.0\n",
              "ZipCode                                    0.0\n",
              "Latitude                                   0.0\n",
              "Longitude                                  0.0\n",
              "Age                                        0.0\n",
              "Under30                                    0.0\n",
              "Married                                    0.0\n",
              "ReferredAFriend                            0.0\n",
              "ChurnCategory_Price                        0.0\n",
              "dtype: float64"
            ]
          },
          "metadata": {},
          "execution_count": 78
        }
      ]
    },
    {
      "cell_type": "markdown",
      "source": [
        "#### SVM"
      ],
      "metadata": {
        "id": "unxbiNDckfwE"
      }
    },
    {
      "cell_type": "code",
      "source": [
        "from sklearn.svm import SVC\n",
        "svm = SVC(kernel='linear')\n",
        "\n",
        "svm.fit(X_train_over, y_train_over)\n",
        "import numpy as np\n",
        "\n",
        "# Convert Pandas Series to Numpy array\n",
        "y_test = np.array(y_test)\n",
        "y_test = y_test.reshape(-1, 1)\n",
        "\n",
        "svm_pred_tr = svm.predict(X_test)\n",
        "svm_pred_test = svm.predict(y_test)\n",
        "\n",
        "print('Train ACC : ', accuracy_score(y_train_over, svm_pred_tr))\n",
        "print('Test ACC : ', accuracy_score(y_test, svm_pred_test))"
      ],
      "metadata": {
        "colab": {
          "base_uri": "https://localhost:8080/",
          "height": 444
        },
        "id": "cY-uX51RkjrA",
        "outputId": "9cea75ae-4b1c-454f-9512-170b1a152c03"
      },
      "execution_count": 83,
      "outputs": [
        {
          "output_type": "stream",
          "name": "stderr",
          "text": [
            "/usr/local/lib/python3.10/dist-packages/sklearn/base.py:439: UserWarning: X does not have valid feature names, but SVC was fitted with feature names\n",
            "  warnings.warn(\n"
          ]
        },
        {
          "output_type": "error",
          "ename": "ValueError",
          "evalue": "ignored",
          "traceback": [
            "\u001b[0;31m---------------------------------------------------------------------------\u001b[0m",
            "\u001b[0;31mValueError\u001b[0m                                Traceback (most recent call last)",
            "\u001b[0;32m<ipython-input-83-5ae71bc110e6>\u001b[0m in \u001b[0;36m<cell line: 12>\u001b[0;34m()\u001b[0m\n\u001b[1;32m     10\u001b[0m \u001b[0;34m\u001b[0m\u001b[0m\n\u001b[1;32m     11\u001b[0m \u001b[0msvm_pred_tr\u001b[0m \u001b[0;34m=\u001b[0m \u001b[0msvm\u001b[0m\u001b[0;34m.\u001b[0m\u001b[0mpredict\u001b[0m\u001b[0;34m(\u001b[0m\u001b[0mX_test\u001b[0m\u001b[0;34m)\u001b[0m\u001b[0;34m\u001b[0m\u001b[0;34m\u001b[0m\u001b[0m\n\u001b[0;32m---> 12\u001b[0;31m \u001b[0msvm_pred_test\u001b[0m \u001b[0;34m=\u001b[0m \u001b[0msvm\u001b[0m\u001b[0;34m.\u001b[0m\u001b[0mpredict\u001b[0m\u001b[0;34m(\u001b[0m\u001b[0my_test\u001b[0m\u001b[0;34m)\u001b[0m\u001b[0;34m\u001b[0m\u001b[0;34m\u001b[0m\u001b[0m\n\u001b[0m\u001b[1;32m     13\u001b[0m \u001b[0;34m\u001b[0m\u001b[0m\n\u001b[1;32m     14\u001b[0m \u001b[0mprint\u001b[0m\u001b[0;34m(\u001b[0m\u001b[0;34m'Train ACC : '\u001b[0m\u001b[0;34m,\u001b[0m \u001b[0maccuracy_score\u001b[0m\u001b[0;34m(\u001b[0m\u001b[0my_train_over\u001b[0m\u001b[0;34m,\u001b[0m \u001b[0msvm_pred_tr\u001b[0m\u001b[0;34m)\u001b[0m\u001b[0;34m)\u001b[0m\u001b[0;34m\u001b[0m\u001b[0;34m\u001b[0m\u001b[0m\n",
            "\u001b[0;32m/usr/local/lib/python3.10/dist-packages/sklearn/svm/_base.py\u001b[0m in \u001b[0;36mpredict\u001b[0;34m(self, X)\u001b[0m\n\u001b[1;32m    818\u001b[0m             \u001b[0my\u001b[0m \u001b[0;34m=\u001b[0m \u001b[0mnp\u001b[0m\u001b[0;34m.\u001b[0m\u001b[0margmax\u001b[0m\u001b[0;34m(\u001b[0m\u001b[0mself\u001b[0m\u001b[0;34m.\u001b[0m\u001b[0mdecision_function\u001b[0m\u001b[0;34m(\u001b[0m\u001b[0mX\u001b[0m\u001b[0;34m)\u001b[0m\u001b[0;34m,\u001b[0m \u001b[0maxis\u001b[0m\u001b[0;34m=\u001b[0m\u001b[0;36m1\u001b[0m\u001b[0;34m)\u001b[0m\u001b[0;34m\u001b[0m\u001b[0;34m\u001b[0m\u001b[0m\n\u001b[1;32m    819\u001b[0m         \u001b[0;32melse\u001b[0m\u001b[0;34m:\u001b[0m\u001b[0;34m\u001b[0m\u001b[0;34m\u001b[0m\u001b[0m\n\u001b[0;32m--> 820\u001b[0;31m             \u001b[0my\u001b[0m \u001b[0;34m=\u001b[0m \u001b[0msuper\u001b[0m\u001b[0;34m(\u001b[0m\u001b[0;34m)\u001b[0m\u001b[0;34m.\u001b[0m\u001b[0mpredict\u001b[0m\u001b[0;34m(\u001b[0m\u001b[0mX\u001b[0m\u001b[0;34m)\u001b[0m\u001b[0;34m\u001b[0m\u001b[0;34m\u001b[0m\u001b[0m\n\u001b[0m\u001b[1;32m    821\u001b[0m         \u001b[0;32mreturn\u001b[0m \u001b[0mself\u001b[0m\u001b[0;34m.\u001b[0m\u001b[0mclasses_\u001b[0m\u001b[0;34m.\u001b[0m\u001b[0mtake\u001b[0m\u001b[0;34m(\u001b[0m\u001b[0mnp\u001b[0m\u001b[0;34m.\u001b[0m\u001b[0masarray\u001b[0m\u001b[0;34m(\u001b[0m\u001b[0my\u001b[0m\u001b[0;34m,\u001b[0m \u001b[0mdtype\u001b[0m\u001b[0;34m=\u001b[0m\u001b[0mnp\u001b[0m\u001b[0;34m.\u001b[0m\u001b[0mintp\u001b[0m\u001b[0;34m)\u001b[0m\u001b[0;34m)\u001b[0m\u001b[0;34m\u001b[0m\u001b[0;34m\u001b[0m\u001b[0m\n\u001b[1;32m    822\u001b[0m \u001b[0;34m\u001b[0m\u001b[0m\n",
            "\u001b[0;32m/usr/local/lib/python3.10/dist-packages/sklearn/svm/_base.py\u001b[0m in \u001b[0;36mpredict\u001b[0;34m(self, X)\u001b[0m\n\u001b[1;32m    431\u001b[0m             \u001b[0mThe\u001b[0m \u001b[0mpredicted\u001b[0m \u001b[0mvalues\u001b[0m\u001b[0;34m.\u001b[0m\u001b[0;34m\u001b[0m\u001b[0;34m\u001b[0m\u001b[0m\n\u001b[1;32m    432\u001b[0m         \"\"\"\n\u001b[0;32m--> 433\u001b[0;31m         \u001b[0mX\u001b[0m \u001b[0;34m=\u001b[0m \u001b[0mself\u001b[0m\u001b[0;34m.\u001b[0m\u001b[0m_validate_for_predict\u001b[0m\u001b[0;34m(\u001b[0m\u001b[0mX\u001b[0m\u001b[0;34m)\u001b[0m\u001b[0;34m\u001b[0m\u001b[0;34m\u001b[0m\u001b[0m\n\u001b[0m\u001b[1;32m    434\u001b[0m         \u001b[0mpredict\u001b[0m \u001b[0;34m=\u001b[0m \u001b[0mself\u001b[0m\u001b[0;34m.\u001b[0m\u001b[0m_sparse_predict\u001b[0m \u001b[0;32mif\u001b[0m \u001b[0mself\u001b[0m\u001b[0;34m.\u001b[0m\u001b[0m_sparse\u001b[0m \u001b[0;32melse\u001b[0m \u001b[0mself\u001b[0m\u001b[0;34m.\u001b[0m\u001b[0m_dense_predict\u001b[0m\u001b[0;34m\u001b[0m\u001b[0;34m\u001b[0m\u001b[0m\n\u001b[1;32m    435\u001b[0m         \u001b[0;32mreturn\u001b[0m \u001b[0mpredict\u001b[0m\u001b[0;34m(\u001b[0m\u001b[0mX\u001b[0m\u001b[0;34m)\u001b[0m\u001b[0;34m\u001b[0m\u001b[0;34m\u001b[0m\u001b[0m\n",
            "\u001b[0;32m/usr/local/lib/python3.10/dist-packages/sklearn/svm/_base.py\u001b[0m in \u001b[0;36m_validate_for_predict\u001b[0;34m(self, X)\u001b[0m\n\u001b[1;32m    611\u001b[0m \u001b[0;34m\u001b[0m\u001b[0m\n\u001b[1;32m    612\u001b[0m         \u001b[0;32mif\u001b[0m \u001b[0;32mnot\u001b[0m \u001b[0mcallable\u001b[0m\u001b[0;34m(\u001b[0m\u001b[0mself\u001b[0m\u001b[0;34m.\u001b[0m\u001b[0mkernel\u001b[0m\u001b[0;34m)\u001b[0m\u001b[0;34m:\u001b[0m\u001b[0;34m\u001b[0m\u001b[0;34m\u001b[0m\u001b[0m\n\u001b[0;32m--> 613\u001b[0;31m             X = self._validate_data(\n\u001b[0m\u001b[1;32m    614\u001b[0m                 \u001b[0mX\u001b[0m\u001b[0;34m,\u001b[0m\u001b[0;34m\u001b[0m\u001b[0;34m\u001b[0m\u001b[0m\n\u001b[1;32m    615\u001b[0m                 \u001b[0maccept_sparse\u001b[0m\u001b[0;34m=\u001b[0m\u001b[0;34m\"csr\"\u001b[0m\u001b[0;34m,\u001b[0m\u001b[0;34m\u001b[0m\u001b[0;34m\u001b[0m\u001b[0m\n",
            "\u001b[0;32m/usr/local/lib/python3.10/dist-packages/sklearn/base.py\u001b[0m in \u001b[0;36m_validate_data\u001b[0;34m(self, X, y, reset, validate_separately, **check_params)\u001b[0m\n\u001b[1;32m    586\u001b[0m \u001b[0;34m\u001b[0m\u001b[0m\n\u001b[1;32m    587\u001b[0m         \u001b[0;32mif\u001b[0m \u001b[0;32mnot\u001b[0m \u001b[0mno_val_X\u001b[0m \u001b[0;32mand\u001b[0m \u001b[0mcheck_params\u001b[0m\u001b[0;34m.\u001b[0m\u001b[0mget\u001b[0m\u001b[0;34m(\u001b[0m\u001b[0;34m\"ensure_2d\"\u001b[0m\u001b[0;34m,\u001b[0m \u001b[0;32mTrue\u001b[0m\u001b[0;34m)\u001b[0m\u001b[0;34m:\u001b[0m\u001b[0;34m\u001b[0m\u001b[0;34m\u001b[0m\u001b[0m\n\u001b[0;32m--> 588\u001b[0;31m             \u001b[0mself\u001b[0m\u001b[0;34m.\u001b[0m\u001b[0m_check_n_features\u001b[0m\u001b[0;34m(\u001b[0m\u001b[0mX\u001b[0m\u001b[0;34m,\u001b[0m \u001b[0mreset\u001b[0m\u001b[0;34m=\u001b[0m\u001b[0mreset\u001b[0m\u001b[0;34m)\u001b[0m\u001b[0;34m\u001b[0m\u001b[0;34m\u001b[0m\u001b[0m\n\u001b[0m\u001b[1;32m    589\u001b[0m \u001b[0;34m\u001b[0m\u001b[0m\n\u001b[1;32m    590\u001b[0m         \u001b[0;32mreturn\u001b[0m \u001b[0mout\u001b[0m\u001b[0;34m\u001b[0m\u001b[0;34m\u001b[0m\u001b[0m\n",
            "\u001b[0;32m/usr/local/lib/python3.10/dist-packages/sklearn/base.py\u001b[0m in \u001b[0;36m_check_n_features\u001b[0;34m(self, X, reset)\u001b[0m\n\u001b[1;32m    387\u001b[0m \u001b[0;34m\u001b[0m\u001b[0m\n\u001b[1;32m    388\u001b[0m         \u001b[0;32mif\u001b[0m \u001b[0mn_features\u001b[0m \u001b[0;34m!=\u001b[0m \u001b[0mself\u001b[0m\u001b[0;34m.\u001b[0m\u001b[0mn_features_in_\u001b[0m\u001b[0;34m:\u001b[0m\u001b[0;34m\u001b[0m\u001b[0;34m\u001b[0m\u001b[0m\n\u001b[0;32m--> 389\u001b[0;31m             raise ValueError(\n\u001b[0m\u001b[1;32m    390\u001b[0m                 \u001b[0;34mf\"X has {n_features} features, but {self.__class__.__name__} \"\u001b[0m\u001b[0;34m\u001b[0m\u001b[0;34m\u001b[0m\u001b[0m\n\u001b[1;32m    391\u001b[0m                 \u001b[0;34mf\"is expecting {self.n_features_in_} features as input.\"\u001b[0m\u001b[0;34m\u001b[0m\u001b[0;34m\u001b[0m\u001b[0m\n",
            "\u001b[0;31mValueError\u001b[0m: X has 1 features, but SVC is expecting 54 features as input."
          ]
        }
      ]
    },
    {
      "cell_type": "markdown",
      "source": [
        "#### XGBoost"
      ],
      "metadata": {
        "id": "eaEuUqx9k86w"
      }
    },
    {
      "cell_type": "code",
      "source": [
        "from xgboost.sklearn import XGBClassifier\n",
        "\n",
        "evals = [(X_test, y_test)]\n",
        "\n",
        "xgb = XGBClassifier()\n",
        "xgb.set_params(early_stopping_rounds=30)\n",
        "\n",
        "xgb.fit(X_train_over, y_train_over, eval_set=evals)\n",
        "\n",
        "xgb_pred_tr = xgb.predict(X_train_over)\n",
        "xgb_pred_test = xgb.predict(X_test)\n",
        "\n",
        "print('Train ACC : ', accuracy_score(y_train_over, xgb_pred_tr))\n",
        "print('Test ACC : ', accuracy_score(y_test, xgb_pred_test))"
      ],
      "metadata": {
        "colab": {
          "base_uri": "https://localhost:8080/"
        },
        "id": "Dnwx11ymkjoM",
        "outputId": "56382634-644e-4001-a7ee-d562139cc4ce"
      },
      "execution_count": 82,
      "outputs": [
        {
          "output_type": "stream",
          "name": "stdout",
          "text": [
            "[0]\tvalidation_0-logloss:0.43769\n",
            "[1]\tvalidation_0-logloss:0.29653\n",
            "[2]\tvalidation_0-logloss:0.20757\n",
            "[3]\tvalidation_0-logloss:0.14804\n",
            "[4]\tvalidation_0-logloss:0.10684\n",
            "[5]\tvalidation_0-logloss:0.07773\n",
            "[6]\tvalidation_0-logloss:0.05686\n",
            "[7]\tvalidation_0-logloss:0.04177\n",
            "[8]\tvalidation_0-logloss:0.03078\n",
            "[9]\tvalidation_0-logloss:0.02274\n",
            "[10]\tvalidation_0-logloss:0.01683\n",
            "[11]\tvalidation_0-logloss:0.01249\n",
            "[12]\tvalidation_0-logloss:0.00929\n",
            "[13]\tvalidation_0-logloss:0.00692\n",
            "[14]\tvalidation_0-logloss:0.00518\n",
            "[15]\tvalidation_0-logloss:0.00388\n",
            "[16]\tvalidation_0-logloss:0.00293\n",
            "[17]\tvalidation_0-logloss:0.00222\n",
            "[18]\tvalidation_0-logloss:0.00169\n",
            "[19]\tvalidation_0-logloss:0.00130\n",
            "[20]\tvalidation_0-logloss:0.00101\n",
            "[21]\tvalidation_0-logloss:0.00079\n",
            "[22]\tvalidation_0-logloss:0.00063\n",
            "[23]\tvalidation_0-logloss:0.00051\n",
            "[24]\tvalidation_0-logloss:0.00041\n",
            "[25]\tvalidation_0-logloss:0.00034\n",
            "[26]\tvalidation_0-logloss:0.00029\n",
            "[27]\tvalidation_0-logloss:0.00024\n",
            "[28]\tvalidation_0-logloss:0.00021\n",
            "[29]\tvalidation_0-logloss:0.00021\n",
            "[30]\tvalidation_0-logloss:0.00021\n",
            "[31]\tvalidation_0-logloss:0.00021\n",
            "[32]\tvalidation_0-logloss:0.00021\n",
            "[33]\tvalidation_0-logloss:0.00021\n",
            "[34]\tvalidation_0-logloss:0.00021\n",
            "[35]\tvalidation_0-logloss:0.00021\n",
            "[36]\tvalidation_0-logloss:0.00021\n",
            "[37]\tvalidation_0-logloss:0.00021\n",
            "[38]\tvalidation_0-logloss:0.00021\n",
            "[39]\tvalidation_0-logloss:0.00021\n",
            "[40]\tvalidation_0-logloss:0.00021\n",
            "[41]\tvalidation_0-logloss:0.00021\n",
            "[42]\tvalidation_0-logloss:0.00021\n",
            "[43]\tvalidation_0-logloss:0.00021\n",
            "[44]\tvalidation_0-logloss:0.00021\n",
            "[45]\tvalidation_0-logloss:0.00021\n",
            "[46]\tvalidation_0-logloss:0.00021\n",
            "[47]\tvalidation_0-logloss:0.00021\n",
            "[48]\tvalidation_0-logloss:0.00021\n",
            "[49]\tvalidation_0-logloss:0.00021\n",
            "[50]\tvalidation_0-logloss:0.00021\n",
            "[51]\tvalidation_0-logloss:0.00021\n",
            "[52]\tvalidation_0-logloss:0.00021\n",
            "[53]\tvalidation_0-logloss:0.00021\n",
            "[54]\tvalidation_0-logloss:0.00021\n",
            "[55]\tvalidation_0-logloss:0.00021\n",
            "[56]\tvalidation_0-logloss:0.00021\n",
            "[57]\tvalidation_0-logloss:0.00021\n",
            "Train ACC :  1.0\n",
            "Test ACC :  1.0\n"
          ]
        }
      ]
    },
    {
      "cell_type": "code",
      "source": [
        "# from sklearn.svm import SVC\n",
        "# from sklearn.ensemble import RandomForestClassifier, AdaBoostClassifier\n",
        "# from xgboost.sklearn import XGBClassifier\n",
        "# from sklearn.tree import DecisionTreeClassifier\n",
        "# from sklearn.metrics import accuracy_score, precision_score, recall_score, roc_auc_score\n",
        "\n",
        "# def Modeling_result(train_x, train_y, valid_x, valid_y):\n",
        "\n",
        "#     models = [LogisticRegression(solver='liblinear'), RandomForestClassifier(), AdaBoostClassifier(),\n",
        "#               XGBClassifier(), SVC(kernel='linear', C=1.0), DecisionTreeClassifier()]\n",
        "#     names = [\"Logistic\",\"RF\",\"Ada\",\"XGB\", \"SVM\", \"DT\"]\n",
        "\n",
        "#     train_acc = []\n",
        "#     train_precision = []\n",
        "#     train_recall = []\n",
        "#     train_roc = []\n",
        "\n",
        "#     valid_acc = []\n",
        "#     valid_precision = []\n",
        "#     valid_recall = []\n",
        "#     valid_roc = []\n",
        "\n",
        "\n",
        "#     for model, name in zip(models, names):\n",
        "\n",
        "#         model.fit(train_x,train_y)\n",
        "#         model.predict(valid_x)\n",
        "\n",
        "#         train_acc.append(accuracy_score(train_y,model.predict(train_x)))\n",
        "#         train_precision.append(precision_score(train_y,model.predict(train_x)))\n",
        "#         train_recall.append(recall_score(train_y,model.predict(train_x)))\n",
        "#         train_roc.append(roc_auc_score(train_y, model.predict(train_x)))\n",
        "\n",
        "#         valid_acc.append(accuracy_score(valid_y, model.predict(valid_x)))\n",
        "#         valid_precision.append(precision_score(valid_y,model.predict(valid_x)))\n",
        "#         valid_recall.append(recall_score(valid_y,model.predict(valid_x)))\n",
        "#         valid_roc.append(roc_auc_score(valid_y, model.predict(valid_x)))\n",
        "\n",
        "#     return pd.DataFrame({\"Model\":names, \"Train_Accuracy\":train_acc, \"Train_Precision\":train_precision, \"Train_Recall\":train_recall, \"Train_AUC\":train_roc,\n",
        "            #  \"Valid_Accuracy\":valid_acc, \"Valid_Precision\":valid_precision, \"Valid_Recall\":valid_recall, \"Valid_AUC\":valid_roc})"
      ],
      "metadata": {
        "id": "xWU2fPruVDV3"
      },
      "execution_count": 43,
      "outputs": []
    }
  ]
}